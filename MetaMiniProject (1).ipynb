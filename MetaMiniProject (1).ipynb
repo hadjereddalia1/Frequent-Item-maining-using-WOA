{
  "cells": [
    {
      "cell_type": "markdown",
      "source": [
        "## The implementation of the frequent itemsets maining technique using the Whales Optimization Algorithm"
      ],
      "metadata": {
        "id": "IbX_n1DZE2GR"
      }
    },
    {
      "cell_type": "markdown",
      "source": [
        "\n",
        "In the modeling of frequent itemset mining using the Whale Optimization Algorithm (WOA), you can define the problem and its components systematically. Here’s how you can model the problem and its elements:\n",
        "\n",
        "### **1. Problem Definition:**\n",
        "\n",
        "In the context of **frequent itemset mining**, the goal is to identify itemsets (combinations of items) that appear frequently in a transaction dataset. The **support** of an itemset is the measure used to identify how frequent it is in the dataset.\n",
        "\n",
        "We can formally define the problem as follows:\n",
        "\n",
        "**Input:**\n",
        "- A **transaction database** \\( D = \\{T_1, T_2, ..., T_m\\} \\), where each \\( T_i \\) is a set of items in a transaction. Each transaction \\( T_i \\) contains a subset of items from the itemset \\( I = \\{I_1, I_2, ..., I_n\\} \\).\n",
        "- A **minimum support threshold** \\( in [0, 1] \\), which defines the minimum frequency required for an itemset to be considered **frequent**.\n",
        "\n",
        "**Output:**\n",
        "- A set of **frequent itemsets** \\( 2^I \\) such that the support of each itemset \\( s(I) ), where \\( s(I) \\) is the support of the itemset \\( I \\).\n",
        "\n",
        "---\n",
        "\n",
        "### **2. The Role of Whale Optimization Algorithm (WOA):**\n",
        "\n",
        "The Whale Optimization Algorithm (WOA) is a **population-based metaheuristic** inspired by the hunting behavior of humpback whales. It is used to solve optimization problems by iteratively improving the candidate solutions (whales) based on their fitness.\n",
        "\n",
        "For frequent itemset mining, the **whales** (solutions) represent different **itemsets**, and their **fitness** is evaluated based on the **support** of the itemset in the transaction database. The algorithm uses different mechanisms (shrinking circle, spiral) to explore the search space and converge to the optimal (or near-optimal) solution — the set of frequent itemsets.\n",
        "\n",
        "---\n",
        "\n",
        "### **3. Defining the Search Space:**\n",
        "\n",
        "The search space in this problem is the space of all possible **itemsets**. This is a **combinatorial optimization** problem, and the search space is very large. Let's break it down:\n",
        "\n",
        "- The **itemset space**  is the set of all possible itemsets, which can be formed by selecting any subset of the total set of items \\( I \\).\n",
        "- For a dataset with \\( n \\) distinct items, the total search space size is \\( 2^n \\), representing all possible item combinations (including the empty set).\n",
        "  \n",
        "The **position** of each whale in the search space corresponds to a binary vector of length \\( n \\), where each element represents whether an item is included in the current itemset or not. A value of 1 means the item is included, and 0 means it is not.\n",
        "\n",
        "### **4. Defining the Whale's Position:**\n",
        "\n",
        "Each whale's position is a binary vector of size \\( n \\), where each element \\( w_i \\) represents whether item \\( I_i \\) is in the current itemset.\n",
        "\n",
        "- For example, if there are 5 items \\( I_1, I_2, I_3, I_4, I_5 \\), a whale's position might look like:\n",
        "  \\[\n",
        "  \\text{Position} = [1, 0, 1, 0, 1]\n",
        "  \\]\n",
        "  This means the whale is considering the itemset \\( \\{I_1, I_3, I_5\\} \\).\n",
        "\n",
        "### **5. Fitness Function:**\n",
        "\n",
        "The fitness of each whale (solution) corresponds to the **support** of the itemset represented by that whale. The support of an itemset \\( I \\) is the proportion of transactions in which the itemset appears. The fitness function \\( f(\\text{position}) \\) can be mathematically defined as:\n",
        "\n",
        "\n",
        "position = Count of transactions containing the itemset Total number of transactions T_i in D : T_i \\supseteq I\n",
        "\n",
        "\n",
        "Where:\n",
        "- position is a binary vector representing the current itemset.\n",
        "- \\( T_i \\) is a transaction in the database \\( D \\).\n",
        "- \\( I \\) is the itemset corresponding to the current whale's position.\n",
        "\n",
        "The goal is to find itemsets whose support is above the minimum threshold \\( \\delta \\).\n",
        "\n",
        "### **6. Constraints:**\n",
        "\n",
        "- **Minimum support constraint**: Only itemsets with support greater than or equal to the threshold \\( \\delta \\) are considered valid frequent itemsets.\n",
        "  \\[\n",
        "  f(\\text{position}) \\geq \\delta\n",
        "  \\]\n",
        "\n",
        "- **Size of the itemset**: The itemset cannot contain duplicate items. Each whale's position vector ensures this by using binary encoding (only 0 or 1).\n",
        "\n",
        "---\n",
        "\n",
        "### **7. Pseudo Algorithm for Whale Optimization Algorithm (WOA) for Frequent Itemset Mining:**\n",
        "\n",
        "Here is a high-level pseudocode for applying WOA to frequent itemset mining:\n",
        "\n",
        "```\n",
        "Initialize whale population (binary vectors)\n",
        "Initialize best position and best fitness\n",
        "\n",
        "For each iteration t = 1 to MaxT:\n",
        "    For each whale i in the population:\n",
        "        Evaluate the fitness (support) of the current itemset\n",
        "        Update the best position if the current itemset has higher support\n",
        "    End for\n",
        "\n",
        "    For each whale i in the population:\n",
        "        Update whale position based on best position using spiral or shrinking circle mechanism\n",
        "    End for\n",
        "\n",
        "    If best fitness > min_support:\n",
        "        Stop algorithm\n",
        "    End if\n",
        "End for\n",
        "\n",
        "Return the best itemset found with support greater than or equal to min_support\n",
        "```\n",
        "\n",
        "### **8. Why is Frequent Itemset Mining an NP-Hard Problem?**\n",
        "\n",
        "Frequent itemset mining is considered **NP-hard** because:\n",
        "\n",
        "- **Combinatorial Explosion**: The number of possible itemsets grows exponentially with the number of items. For \\( n \\) items, there are \\( 2^n \\) possible subsets, and examining all possible subsets requires exponential time.\n",
        "- **No Polynomial Time Algorithm**: There is no known polynomial-time algorithm to find all frequent itemsets. The best-known algorithms (like Apriori) have worst-case exponential time complexity, though they can be made more efficient with pruning and other techniques.\n",
        "\n",
        "This makes frequent itemset mining computationally expensive, especially for large datasets with many items.\n",
        "\n",
        "---\n",
        "\n",
        "### **Summary:**\n",
        "\n",
        "- **Whale Optimization Algorithm (WOA)** is a population-based metaheuristic inspired by the hunting behavior of humpback whales. It is used for optimization problems like **frequent itemset mining**.\n",
        "- The **search space** is the set of all possible itemsets, which is combinatorially large (exponential in the number of items).\n",
        "- The **fitness function** evaluates the **support** of itemsets (the fraction of transactions containing the itemset).\n",
        "- **NP-Hard**: The frequent itemset mining problem is NP-hard due to the combinatorial explosion of possible itemsets and the lack of a polynomial-time algorithm to solve it.\n",
        "\n",
        "Using WOA for frequent itemset mining is appropriate because of its ability to efficiently explore large search spaces and converge to high-quality solutions, even for NP-hard problems."
      ],
      "metadata": {
        "id": "er_JZpPVFMST"
      }
    },
    {
      "cell_type": "markdown",
      "source": [
        "Import the dataset"
      ],
      "metadata": {
        "id": "yvesmyJcBBOY"
      }
    },
    {
      "cell_type": "code",
      "source": [
        "import csv\n",
        "\n",
        "# Ouvrir le fichier texte en mode lecture\n",
        "with open(\"/content/RecordLink.txt\", \"r\") as txt_file:\n",
        "    lines = txt_file.readlines()\n",
        "\n",
        "# Ouvrir un nouveau fichier CSV en mode écriture\n",
        "with open(\"RecordLink.csv\", \"w\", newline=\"\") as csv_file:\n",
        "    writer = csv.writer(csv_file)\n",
        "\n",
        "    # Écrire chaque ligne après avoir séparé les chiffres\n",
        "    for line in lines:\n",
        "        row = line.strip().split(\" \")  # Supprime les espaces inutiles et découpe par espace\n",
        "        writer.writerow(row)  # Écrit la ligne dans le fichier CSV\n",
        "\n",
        "print(\"Fichier converti avec succès en CSV !\")"
      ],
      "metadata": {
        "colab": {
          "base_uri": "https://localhost:8080/"
        },
        "id": "LPGsi0tk3cAe",
        "outputId": "c879f8e0-64f2-4f11-9f27-be28f8e94a9e"
      },
      "execution_count": null,
      "outputs": [
        {
          "output_type": "stream",
          "name": "stdout",
          "text": [
            "Fichier converti avec succès en CSV !\n"
          ]
        }
      ]
    },
    {
      "cell_type": "markdown",
      "source": [
        "##The WOA with 2 Mechanisms"
      ],
      "metadata": {
        "id": "ITj82XKHBGDF"
      }
    },
    {
      "cell_type": "code",
      "source": [
        "import numpy as np\n",
        "import random\n",
        "import pandas as pd\n",
        "\n",
        "# Load your dataset from a CSV file\n",
        "df = pd.read_csv('/content/RecordLink.csv')\n",
        "\n",
        "# Map each column to a string value\n",
        "def map_to_string(row):\n",
        "    mapped_row = []\n",
        "    for i, value in enumerate(row):\n",
        "        mapped_row.append(f\"{value}\")\n",
        "    return mapped_row\n",
        "\n",
        "# Apply the mapping to each row\n",
        "transactions = [set(map_to_string(row)) for row in df.values]\n",
        "\n",
        "# List of all items\n",
        "items = [item for line in transactions for item in line]\n",
        "n_items = len(set(item for row in df.values for item in row))\n",
        "\n",
        "# Function to calculate the support of an itemset\n",
        "def calculate_support(itemset, transactions):\n",
        "    itemset_set = set(itemset)\n",
        "    count = sum(1 for transaction in transactions if itemset_set.issubset(transaction))\n",
        "    return count / len(transactions)\n",
        "\n",
        "\n",
        "# WOA Parameters\n",
        "MaxT = 200 # Maximum number of iterations\n",
        "n_whales = 10  # Number of whales (agents)\n",
        "min_support = 0.005 # Minimum support threshold\n",
        "w = 0.5  # Inertia weight\n",
        "a = 2  # Attraction coefficient\n",
        "c = 1  # Constant for spiral movement\n",
        "l = 1  # Randomness parameter\n",
        "p = 0.5  # Probability for switching between shrinking circle and spiral\n",
        "\n",
        "# Initialize whale positions (random binary vectors representing itemsets)\n",
        "def initialize_population():\n",
        "    population = []\n",
        "    for _ in range(n_whales):\n",
        "        position = np.random.randint(2, size=n_items)  # Binary vector\n",
        "        population.append(position)\n",
        "    return population\n",
        "\n",
        "# Update whale position based on WOA mechanisms\n",
        "def update_position(position, best_position, t):\n",
        "    # Shrinking Circle mechanism\n",
        "    if random.random() < p:\n",
        "        A = 2 * a * random.random() - a  # Random number between [-a, a]\n",
        "        updated_position = position + A * (best_position - position)  # Shrinking circle formula\n",
        "    # Spiral mechanism\n",
        "    else:\n",
        "        distance = np.abs(best_position - position)\n",
        "        updated_position = position + c * np.sin(distance) * (best_position - position)\n",
        "\n",
        "    # Map continuous values to binary using sigmoid function\n",
        "    updated_position = 1 / (1 + np.exp(-updated_position))  # Sigmoid function\n",
        "    updated_position = (updated_position > 0.5).astype(int)  # Binary decision\n",
        "    return updated_position\n",
        "\n",
        "# Main WOA algorithm\n",
        "def whale_optimization_algorithm(transactions, MaxT=100, n_whales=10, min_support=0.5):\n",
        "    population = initialize_population()\n",
        "    # Initialize best_position with the first whale's position\n",
        "    best_position = population[0]\n",
        "    best_support = 0\n",
        "\n",
        "    # Iterate over each generation (t)\n",
        "    for t in range(MaxT):\n",
        "\n",
        "        for i, whale in enumerate(population):\n",
        "            # Calculate the support (fitness) of the current itemset\n",
        "            itemset = set([items[i] for i in range(n_items) if whale[i] == 1])\n",
        "            support = calculate_support(itemset, transactions)\n",
        "\n",
        "            # Update the best solution if this whale's itemset has higher support\n",
        "            if support > best_support:\n",
        "                best_support = support\n",
        "                best_position = whale\n",
        "\n",
        "        # Update the population\n",
        "        for i in range(n_whales):\n",
        "            population[i] = update_position(population[i], best_position, t)\n",
        "\n",
        "        if support > min_support:\n",
        "          break\n",
        "\n",
        "    # Return the best itemset found after all iterations\n",
        "    best_itemset = set([items[i] for i in range(n_items) if best_position[i] == 1])\n",
        "    return best_itemset, best_support\n",
        "\n",
        "# Run the WOA algorithm\n",
        "best_itemset, best_support = whale_optimization_algorithm(transactions, MaxT=100, min_support=0.5)\n",
        "print(f\"Best Itemset: {best_itemset}\")\n",
        "print(f\"Support: {best_support}\")\n"
      ],
      "metadata": {
        "colab": {
          "base_uri": "https://localhost:8080/"
        },
        "id": "-JIZcVagV1_w",
        "outputId": "029648eb-35af-4f4d-b082-8b1e6d3b93b5"
      },
      "execution_count": null,
      "outputs": [
        {
          "output_type": "stream",
          "name": "stderr",
          "text": [
            "/usr/local/lib/python3.10/dist-packages/ipykernel/ipkernel.py:283: DeprecationWarning: `should_run_async` will not call `transform_cell` automatically in the future. Please pass the result to `transformed_cell` argument and any exception that happen during thetransform in `preprocessing_exc_tuple` in IPython 7.17 and above.\n",
            "  and should_run_async(code)\n"
          ]
        },
        {
          "output_type": "stream",
          "name": "stdout",
          "text": [
            "Best Itemset: {'7', '28', '22', '13', '11', '1', '16', '19'}\n",
            "Support: 0.01064903576559304\n"
          ]
        }
      ]
    },
    {
      "cell_type": "markdown",
      "source": [
        "##The WOA using one Mechanism"
      ],
      "metadata": {
        "id": "i1R8mAV1BZC-"
      }
    },
    {
      "cell_type": "code",
      "source": [
        "import numpy as np\n",
        "import random\n",
        "import pandas as pd\n",
        "\n",
        "# Load your dataset from a CSV file\n",
        "df = pd.read_csv('/content/RecordLink.csv')\n",
        "\n",
        "# Map each column to a string value\n",
        "def map_to_string(row):\n",
        "    mapped_row = []\n",
        "    for i, value in enumerate(row):\n",
        "        mapped_row.append(f\"{value}\")\n",
        "    return mapped_row\n",
        "\n",
        "# Apply the mapping to each row\n",
        "transactions = [set(map_to_string(row)) for row in df.values]\n",
        "\n",
        "# List of all items\n",
        "items = [item for line in transactions for item in line]\n",
        "n_items = len(set(item for row in df.values for item in row))\n",
        "\n",
        "# Function to calculate the support of an itemset\n",
        "def calculate_support(itemset, transactions):\n",
        "    itemset_set = set(itemset)\n",
        "    count = sum(1 for transaction in transactions if itemset_set.issubset(transaction))\n",
        "    return count / len(transactions)\n",
        "\n",
        "\n",
        "# WOA Parameters\n",
        "MaxT = 200  # Maximum number of iterations\n",
        "n_whales = 10  # Number of whales (agents)\n",
        "min_support = 0.005 # Minimum support threshold\n",
        "w = 0.5  # Inertia weight\n",
        "c = 1  # Constant for spiral movement\n",
        "\n",
        "# Initialize whale positions (random binary vectors representing itemsets)\n",
        "def initialize_population():\n",
        "    population = []\n",
        "    for _ in range(n_whales):\n",
        "        position = np.random.randint(2, size=n_items)  # Binary vector\n",
        "        population.append(position)\n",
        "    return population\n",
        "\n",
        "def update_position(position, best_position, t):\n",
        "    # use the Spiral mechanism\n",
        "    distance = np.abs(best_position - position)\n",
        "    updated_position = position + c * np.sin(distance) * (best_position - position)\n",
        "\n",
        "    # Map continuous values to binary using sigmoid function\n",
        "    updated_position = 1 / (1 + np.exp(-updated_position))  # Sigmoid function\n",
        "    updated_position = (updated_position > 0.5).astype(int)  # Binary decision\n",
        "    return updated_position\n",
        "\n",
        "\n",
        "# Main WOA algorithm\n",
        "def whale_optimization_algorithm(transactions, MaxT=100, n_whales=10, min_support=0.5):\n",
        "    population = initialize_population()\n",
        "    # Initialize best_position with the first whale's position\n",
        "    best_position = population[0]\n",
        "    best_support = 0\n",
        "\n",
        "    # Iterate over each generation (t)\n",
        "    for t in range(MaxT):\n",
        "\n",
        "        for i, whale in enumerate(population):\n",
        "            # Calculate the support (fitness) of the current itemset\n",
        "            itemset = set([items[i] for i in range(n_items) if whale[i] == 1])\n",
        "            support = calculate_support(itemset, transactions)\n",
        "\n",
        "            # Update the best solution if this whale's itemset has higher support\n",
        "            if support > best_support:\n",
        "                best_support = support\n",
        "                best_position = whale\n",
        "\n",
        "        # Update the population\n",
        "        for i in range(n_whales):\n",
        "            population[i] = update_position(population[i], best_position, t)\n",
        "\n",
        "        if support > min_support:\n",
        "          break\n",
        "\n",
        "    # Return the best itemset found after all iterations\n",
        "    best_itemset = set([items[i] for i in range(n_items) if best_position[i] == 1])\n",
        "    return best_itemset, best_support\n",
        "\n",
        "# Run the WOA algorithm\n",
        "best_itemset, best_support = whale_optimization_algorithm(transactions, MaxT=100, min_support=0.5)\n",
        "print(f\"Best Itemset: {best_itemset}\")\n",
        "print(f\"Support: {best_support}\")\n"
      ],
      "metadata": {
        "colab": {
          "base_uri": "https://localhost:8080/"
        },
        "outputId": "20306e20-af57-4d0c-f974-610ccb096e4c",
        "id": "Xc4gm0z2Xy-M"
      },
      "execution_count": null,
      "outputs": [
        {
          "output_type": "stream",
          "name": "stderr",
          "text": [
            "/usr/local/lib/python3.10/dist-packages/ipykernel/ipkernel.py:283: DeprecationWarning: `should_run_async` will not call `transform_cell` automatically in the future. Please pass the result to `transformed_cell` argument and any exception that happen during thetransform in `preprocessing_exc_tuple` in IPython 7.17 and above.\n",
            "  and should_run_async(code)\n"
          ]
        },
        {
          "output_type": "stream",
          "name": "stdout",
          "text": [
            "Best Itemset: {'7', '28', '22', '11', '25', '16', '19'}\n",
            "Support: 0.01026451692149941\n"
          ]
        }
      ]
    },
    {
      "cell_type": "markdown",
      "source": [
        "##The Apriori Algorithm"
      ],
      "metadata": {
        "id": "6J2gKrNpBi4V"
      }
    },
    {
      "cell_type": "code",
      "source": [
        "import numpy as np\n",
        "import pandas as pd\n",
        "from mlxtend.frequent_patterns import apriori, association_rules\n",
        "from mlxtend.preprocessing import TransactionEncoder\n",
        "\n",
        "# Load your dataset from a CSV file\n",
        "df = pd.read_csv('/content/RecordLink.csv')\n",
        "\n",
        "# Map each column to a string value\n",
        "def map_to_string(row):\n",
        "    mapped_row = []\n",
        "    for i, value in enumerate(row):\n",
        "        mapped_row.append(f\"{value}\")\n",
        "    return mapped_row\n",
        "\n",
        "\n",
        "transactions = [set(map_to_string(row)) for row in df.values]\n",
        "\n",
        "te = TransactionEncoder()\n",
        "te_ary = te.fit_transform(transactions)\n",
        "df_transactions = pd.DataFrame(te_ary, columns=te.columns_)\n",
        "\n",
        "# Run the apriori algorithm with a minimum support of 0.005\n",
        "frequent_itemsets = apriori(df_transactions, min_support=0.005, use_colnames=True)\n",
        "\n",
        "\n",
        "print(frequent_itemsets)\n",
        "\n",
        "\n"
      ],
      "metadata": {
        "colab": {
          "base_uri": "https://localhost:8080/"
        },
        "id": "EurMGo_aUSc6",
        "outputId": "d0ffe2bb-3aa1-4a5e-e2fb-955df9726805"
      },
      "execution_count": null,
      "outputs": [
        {
          "output_type": "stream",
          "name": "stderr",
          "text": [
            "/usr/local/lib/python3.10/dist-packages/ipykernel/ipkernel.py:283: DeprecationWarning: `should_run_async` will not call `transform_cell` automatically in the future. Please pass the result to `transformed_cell` argument and any exception that happen during thetransform in `preprocessing_exc_tuple` in IPython 7.17 and above.\n",
            "  and should_run_async(code)\n"
          ]
        },
        {
          "output_type": "stream",
          "name": "stdout",
          "text": [
            "       support                               itemsets\n",
            "0     0.331920                                    (0)\n",
            "1     0.667850                                    (1)\n",
            "2     0.999402                                   (11)\n",
            "3     0.045160                                   (12)\n",
            "4     0.954840                                   (13)\n",
            "...        ...                                    ...\n",
            "8786  0.007359  (7, 21, 15, 27, 13, 11, 24, 1, 5, 19)\n",
            "8787  0.011301  (6, 15, 22, 13, 11, 24, 1, 27, 5, 19)\n",
            "8788  0.120915  (21, 6, 27, 13, 11, 24, 1, 5, 16, 18)\n",
            "8789  0.011359  (21, 6, 27, 13, 11, 24, 1, 5, 16, 19)\n",
            "8790  0.009506  (7, 28, 22, 13, 11, 1, 25, 5, 16, 19)\n",
            "\n",
            "[8791 rows x 2 columns]\n"
          ]
        }
      ]
    }
  ],
  "metadata": {
    "colab": {
      "provenance": []
    },
    "kernelspec": {
      "display_name": "Python 3",
      "name": "python3"
    },
    "language_info": {
      "name": "python"
    }
  },
  "nbformat": 4,
  "nbformat_minor": 0
}